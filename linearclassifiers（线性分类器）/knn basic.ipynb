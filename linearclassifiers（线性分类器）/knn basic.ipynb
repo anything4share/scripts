{
 "cells": [
  {
   "cell_type": "code",
   "execution_count": 549,
   "metadata": {
    "collapsed": true
   },
   "outputs": [],
   "source": [
    "from csv import reader\n",
    "from sys import exit\n",
    "from math import sqrt\n",
    "from operator import itemgetter\n",
    "import numpy as np\n",
    "import pandas as pd\n",
    "from sklearn.neighbors import KNeighborsClassifier\n",
    "from sklearn.cross_validation import train_test_split\n",
    "from sklearn.svm import SVC\n",
    "from sklearn.learning_curve import validation_curve\n",
    "from sklearn.model_selection import cross_val_score \n",
    "import matplotlib.pyplot as plt\n",
    "from mpl_toolkits.mplot3d import Axes3D\n",
    "from sklearn import datasets\n",
    "from sklearn.decomposition import PCA"
   ]
  },
  {
   "cell_type": "code",
   "execution_count": 548,
   "metadata": {},
   "outputs": [
    {
     "ename": "NameError",
     "evalue": "name 'Image' is not defined",
     "output_type": "error",
     "traceback": [
      "\u001b[0;31m---------------------------------------------------------------------------\u001b[0m",
      "\u001b[0;31mNameError\u001b[0m                                 Traceback (most recent call last)",
      "\u001b[0;32m<ipython-input-548-d6510cdf73d8>\u001b[0m in \u001b[0;36m<module>\u001b[0;34m()\u001b[0m\n\u001b[0;32m----> 1\u001b[0;31m \u001b[0mImage\u001b[0m\u001b[0;34m(\u001b[0m\u001b[0mfilename\u001b[0m\u001b[0;34m=\u001b[0m\u001b[0;34m'./images/01_08.png'\u001b[0m\u001b[0;34m,\u001b[0m \u001b[0mwidth\u001b[0m\u001b[0;34m=\u001b[0m\u001b[0;36m500\u001b[0m\u001b[0;34m)\u001b[0m\u001b[0;34m\u001b[0m\u001b[0m\n\u001b[0m",
      "\u001b[0;31mNameError\u001b[0m: name 'Image' is not defined"
     ]
    }
   ],
   "source": [
    "Image(filename='./images/01_08.png', width=500) "
   ]
  },
  {
   "cell_type": "code",
   "execution_count": 551,
   "metadata": {},
   "outputs": [
    {
     "data": {
      "text/html": [
       "<div>\n",
       "<style>\n",
       "    .dataframe thead tr:only-child th {\n",
       "        text-align: right;\n",
       "    }\n",
       "\n",
       "    .dataframe thead th {\n",
       "        text-align: left;\n",
       "    }\n",
       "\n",
       "    .dataframe tbody tr th {\n",
       "        vertical-align: top;\n",
       "    }\n",
       "</style>\n",
       "<table border=\"1\" class=\"dataframe\">\n",
       "  <thead>\n",
       "    <tr style=\"text-align: right;\">\n",
       "      <th></th>\n",
       "      <th>5.1</th>\n",
       "      <th>3.5</th>\n",
       "      <th>1.4</th>\n",
       "      <th>0.2</th>\n",
       "      <th>Iris-setosa</th>\n",
       "    </tr>\n",
       "  </thead>\n",
       "  <tbody>\n",
       "    <tr>\n",
       "      <th>0</th>\n",
       "      <td>4.9</td>\n",
       "      <td>3.0</td>\n",
       "      <td>1.4</td>\n",
       "      <td>0.2</td>\n",
       "      <td>Iris-setosa</td>\n",
       "    </tr>\n",
       "    <tr>\n",
       "      <th>1</th>\n",
       "      <td>4.7</td>\n",
       "      <td>3.2</td>\n",
       "      <td>1.3</td>\n",
       "      <td>0.2</td>\n",
       "      <td>Iris-setosa</td>\n",
       "    </tr>\n",
       "    <tr>\n",
       "      <th>2</th>\n",
       "      <td>4.6</td>\n",
       "      <td>3.1</td>\n",
       "      <td>1.5</td>\n",
       "      <td>0.2</td>\n",
       "      <td>Iris-setosa</td>\n",
       "    </tr>\n",
       "    <tr>\n",
       "      <th>3</th>\n",
       "      <td>5.0</td>\n",
       "      <td>3.6</td>\n",
       "      <td>1.4</td>\n",
       "      <td>0.2</td>\n",
       "      <td>Iris-setosa</td>\n",
       "    </tr>\n",
       "    <tr>\n",
       "      <th>4</th>\n",
       "      <td>5.4</td>\n",
       "      <td>3.9</td>\n",
       "      <td>1.7</td>\n",
       "      <td>0.4</td>\n",
       "      <td>Iris-setosa</td>\n",
       "    </tr>\n",
       "  </tbody>\n",
       "</table>\n",
       "</div>"
      ],
      "text/plain": [
       "   5.1  3.5  1.4  0.2  Iris-setosa\n",
       "0  4.9  3.0  1.4  0.2  Iris-setosa\n",
       "1  4.7  3.2  1.3  0.2  Iris-setosa\n",
       "2  4.6  3.1  1.5  0.2  Iris-setosa\n",
       "3  5.0  3.6  1.4  0.2  Iris-setosa\n",
       "4  5.4  3.9  1.7  0.4  Iris-setosa"
      ]
     },
     "execution_count": 551,
     "metadata": {},
     "output_type": "execute_result"
    }
   ],
   "source": [
    "iris = pd.read_csv('iris.csv')\n",
    "iris.head()"
   ]
  },
  {
   "cell_type": "code",
   "execution_count": 552,
   "metadata": {},
   "outputs": [
    {
     "data": {
      "text/html": [
       "<div>\n",
       "<style>\n",
       "    .dataframe thead tr:only-child th {\n",
       "        text-align: right;\n",
       "    }\n",
       "\n",
       "    .dataframe thead th {\n",
       "        text-align: left;\n",
       "    }\n",
       "\n",
       "    .dataframe tbody tr th {\n",
       "        vertical-align: top;\n",
       "    }\n",
       "</style>\n",
       "<table border=\"1\" class=\"dataframe\">\n",
       "  <thead>\n",
       "    <tr style=\"text-align: right;\">\n",
       "      <th></th>\n",
       "      <th>Sepal Length</th>\n",
       "      <th>Sepal Width</th>\n",
       "      <th>Petal Length</th>\n",
       "      <th>Petal Width</th>\n",
       "      <th>type</th>\n",
       "    </tr>\n",
       "  </thead>\n",
       "  <tbody>\n",
       "    <tr>\n",
       "      <th>144</th>\n",
       "      <td>6.1</td>\n",
       "      <td>3.0</td>\n",
       "      <td>4.9</td>\n",
       "      <td>1.8</td>\n",
       "      <td>Iris-virginica</td>\n",
       "    </tr>\n",
       "    <tr>\n",
       "      <th>145</th>\n",
       "      <td>6.5</td>\n",
       "      <td>3.0</td>\n",
       "      <td>5.2</td>\n",
       "      <td>2.0</td>\n",
       "      <td>Iris-virginica</td>\n",
       "    </tr>\n",
       "    <tr>\n",
       "      <th>146</th>\n",
       "      <td>6.4</td>\n",
       "      <td>3.1</td>\n",
       "      <td>5.5</td>\n",
       "      <td>1.8</td>\n",
       "      <td>Iris-virginica</td>\n",
       "    </tr>\n",
       "    <tr>\n",
       "      <th>147</th>\n",
       "      <td>5.9</td>\n",
       "      <td>3.0</td>\n",
       "      <td>4.2</td>\n",
       "      <td>1.5</td>\n",
       "      <td>Iris-versicolor</td>\n",
       "    </tr>\n",
       "    <tr>\n",
       "      <th>148</th>\n",
       "      <td>5.5</td>\n",
       "      <td>2.4</td>\n",
       "      <td>3.8</td>\n",
       "      <td>1.1</td>\n",
       "      <td>Iris-versicolor</td>\n",
       "    </tr>\n",
       "  </tbody>\n",
       "</table>\n",
       "</div>"
      ],
      "text/plain": [
       "     Sepal Length  Sepal Width  Petal Length  Petal Width             type\n",
       "144           6.1          3.0           4.9          1.8   Iris-virginica\n",
       "145           6.5          3.0           5.2          2.0   Iris-virginica\n",
       "146           6.4          3.1           5.5          1.8   Iris-virginica\n",
       "147           5.9          3.0           4.2          1.5  Iris-versicolor\n",
       "148           5.5          2.4           3.8          1.1  Iris-versicolor"
      ]
     },
     "execution_count": 552,
     "metadata": {},
     "output_type": "execute_result"
    }
   ],
   "source": [
    "iris = iris.sample(frac=1).reset_index(drop=True)\n",
    "iris.columns=(['Sepal Length', 'Sepal Width', 'Petal Length' , 'Petal Width','type'])\n",
    "iris.tail()"
   ]
  },
  {
   "cell_type": "markdown",
   "metadata": {},
   "source": [
    "# At the first step , we want to write a knn program by ourselves to check the structure of model "
   ]
  },
  {
   "cell_type": "code",
   "execution_count": 539,
   "metadata": {
    "collapsed": true
   },
   "outputs": [],
   "source": [
    "def get_classes(training_set):\n",
    "    return training_set.type.unique()\n",
    "\n",
    "def find_neighbors(distances, k):\n",
    "    return distances[0:k]\n",
    "\n",
    "def find_response(neighbors, classes):\n",
    "    votes = {c:0 for c in classes}\n",
    "    for instance in neighbors:\n",
    "        for c in classes:\n",
    "            if instance[-2] == c:\n",
    "                votes[c] += 1\n",
    "    print(votes,max(votes,key=votes.get))\n",
    "    return max(votes,key=votes.get)\n",
    "\n",
    "def knn(training_set, test_set, k):\n",
    "    dist = 0\n",
    "    classes = get_classes(training_set)\n",
    "    training_set=np.array(training_set)\n",
    "    test_set=np.array(test_set)\n",
    "    limit = len(training_set[0])-1\n",
    "    # generate response classes from training data\n",
    "    predict=[]\n",
    "    for test_instance in test_set:\n",
    "        distances = []\n",
    "        for row in training_set:\n",
    "            test_x=test_instance[:-1]\n",
    "            row_x=row[:-1]\n",
    "            test_x=test_x.astype('float')\n",
    "            row_x=row_x.astype('float')\n",
    "            dist= np.sum((test_x-row_x)**2)\n",
    "            distances.append(list(row)+[sqrt(dist)])\n",
    "            dist = 0  \n",
    "        print (len(distances))\n",
    "        distances.sort(key=lambda x: x[-1])\n",
    "    #    print (distances)\n",
    "        # find k nearest neighbors\n",
    "        neighbors = find_neighbors(distances, k)\n",
    "            # get the class with maximum votes\n",
    "        value = find_response(neighbors, classes)\n",
    "            # Display prediction\n",
    "#         print('The predicted class for sample ' + str(test_instance) + ' is : ' + value)\n",
    "#         print('Number of votes : ' + str(value) + ' out of ' + str(k))\n",
    "        print(test_instance[-1], value)\n",
    "            # empty the distance list\n",
    "        predict.append(value)  \n",
    "       # print (distances)\n",
    "    return predict  "
   ]
  },
  {
   "cell_type": "markdown",
   "metadata": {},
   "source": [
    "#### training_set=iris[:100]\n",
    "print (type(training_set))"
   ]
  },
  {
   "cell_type": "code",
   "execution_count": 540,
   "metadata": {},
   "outputs": [
    {
     "name": "stdout",
     "output_type": "stream",
     "text": [
      "100\n"
     ]
    }
   ],
   "source": [
    "distances = []\n",
    "dist = 0\n",
    "print (len(np.array(training_set)))"
   ]
  },
  {
   "cell_type": "code",
   "execution_count": 541,
   "metadata": {},
   "outputs": [
    {
     "name": "stdout",
     "output_type": "stream",
     "text": [
      "99\n",
      "{'Iris-versicolor': 0, 'Iris-setosa': 8, 'Iris-virginica': 0} Iris-setosa\n",
      "Iris-setosa Iris-setosa\n",
      "99\n",
      "{'Iris-versicolor': 0, 'Iris-setosa': 8, 'Iris-virginica': 0} Iris-setosa\n",
      "Iris-setosa Iris-setosa\n",
      "99\n",
      "{'Iris-versicolor': 0, 'Iris-setosa': 0, 'Iris-virginica': 8} Iris-virginica\n",
      "Iris-virginica Iris-virginica\n",
      "99\n",
      "{'Iris-versicolor': 0, 'Iris-setosa': 0, 'Iris-virginica': 8} Iris-virginica\n",
      "Iris-virginica Iris-virginica\n",
      "['Iris-setosa' 'Iris-setosa' 'Iris-virginica' 'Iris-virginica']\n"
     ]
    }
   ],
   "source": [
    "train_set=iris[:99]\n",
    "test_set=iris[129:133]\n",
    "predict=knn(train_set,test_set,8)\n",
    "print (np.array(predict))"
   ]
  },
  {
   "cell_type": "markdown",
   "metadata": {},
   "source": [
    "# How to test the performance of model , we try to how to choose k "
   ]
  },
  {
   "cell_type": "code",
   "execution_count": 519,
   "metadata": {},
   "outputs": [
    {
     "data": {
      "text/plain": [
       "['Sepal Length', 'Sepal Width', 'Petal Length', 'Petal Width', 'type']"
      ]
     },
     "execution_count": 519,
     "metadata": {},
     "output_type": "execute_result"
    }
   ],
   "source": [
    "list(iris)"
   ]
  },
  {
   "cell_type": "code",
   "execution_count": 520,
   "metadata": {},
   "outputs": [
    {
     "name": "stdout",
     "output_type": "stream",
     "text": [
      "{'Iris-virginica': 11, 'Iris-setosa': 0, 'Iris-versicolor': 0} Iris-virginica\n",
      "Iris-virginica Iris-virginica\n",
      "{'Iris-virginica': 4, 'Iris-setosa': 0, 'Iris-versicolor': 7} Iris-versicolor\n",
      "Iris-versicolor Iris-versicolor\n",
      "{'Iris-virginica': 0, 'Iris-setosa': 11, 'Iris-versicolor': 0} Iris-setosa\n",
      "Iris-setosa Iris-setosa\n",
      "{'Iris-virginica': 0, 'Iris-setosa': 11, 'Iris-versicolor': 0} Iris-setosa\n",
      "Iris-setosa Iris-setosa\n",
      "{'Iris-virginica': 10, 'Iris-setosa': 0, 'Iris-versicolor': 1} Iris-virginica\n",
      "Iris-virginica Iris-virginica\n",
      "{'Iris-virginica': 1, 'Iris-setosa': 0, 'Iris-versicolor': 10} Iris-versicolor\n",
      "Iris-versicolor Iris-versicolor\n",
      "{'Iris-virginica': 0, 'Iris-setosa': 0, 'Iris-versicolor': 11} Iris-versicolor\n",
      "Iris-versicolor Iris-versicolor\n",
      "{'Iris-virginica': 11, 'Iris-setosa': 0, 'Iris-versicolor': 0} Iris-virginica\n",
      "Iris-virginica Iris-virginica\n",
      "{'Iris-virginica': 0, 'Iris-setosa': 11, 'Iris-versicolor': 0} Iris-setosa\n",
      "Iris-setosa Iris-setosa\n",
      "{'Iris-virginica': 0, 'Iris-setosa': 11, 'Iris-versicolor': 0} Iris-setosa\n",
      "Iris-setosa Iris-setosa\n",
      "{'Iris-virginica': 7, 'Iris-setosa': 0, 'Iris-versicolor': 4} Iris-virginica\n",
      "Iris-virginica Iris-virginica\n",
      "{'Iris-virginica': 10, 'Iris-setosa': 0, 'Iris-versicolor': 1} Iris-virginica\n",
      "Iris-virginica Iris-virginica\n",
      "{'Iris-virginica': 1, 'Iris-setosa': 0, 'Iris-versicolor': 10} Iris-versicolor\n",
      "Iris-versicolor Iris-versicolor\n",
      "{'Iris-virginica': 0, 'Iris-setosa': 0, 'Iris-versicolor': 11} Iris-versicolor\n",
      "Iris-versicolor Iris-versicolor\n",
      "{'Iris-virginica': 11, 'Iris-setosa': 0, 'Iris-versicolor': 0} Iris-virginica\n",
      "Iris-virginica Iris-virginica\n",
      "{'Iris-virginica': 0, 'Iris-setosa': 0, 'Iris-versicolor': 11} Iris-versicolor\n",
      "Iris-versicolor Iris-versicolor\n",
      "{'Iris-virginica': 8, 'Iris-setosa': 0, 'Iris-versicolor': 3} Iris-virginica\n",
      "Iris-virginica Iris-virginica\n",
      "{'Iris-virginica': 0, 'Iris-setosa': 0, 'Iris-versicolor': 11} Iris-versicolor\n",
      "Iris-versicolor Iris-versicolor\n",
      "{'Iris-virginica': 1, 'Iris-setosa': 0, 'Iris-versicolor': 10} Iris-versicolor\n",
      "Iris-versicolor Iris-versicolor\n",
      "{'Iris-virginica': 3, 'Iris-setosa': 0, 'Iris-versicolor': 8} Iris-versicolor\n",
      "Iris-versicolor Iris-versicolor\n",
      "{'Iris-virginica': 0, 'Iris-setosa': 11, 'Iris-versicolor': 0} Iris-setosa\n",
      "Iris-setosa Iris-setosa\n",
      "{'Iris-virginica': 0, 'Iris-setosa': 0, 'Iris-versicolor': 11} Iris-versicolor\n",
      "Iris-versicolor Iris-versicolor\n",
      "{'Iris-virginica': 0, 'Iris-setosa': 0, 'Iris-versicolor': 11} Iris-versicolor\n",
      "Iris-versicolor Iris-versicolor\n",
      "{'Iris-virginica': 0, 'Iris-setosa': 11, 'Iris-versicolor': 0} Iris-setosa\n",
      "Iris-setosa Iris-setosa\n",
      "{'Iris-virginica': 4, 'Iris-setosa': 0, 'Iris-versicolor': 7} Iris-versicolor\n",
      "Iris-versicolor Iris-versicolor\n",
      "{'Iris-virginica': 0, 'Iris-setosa': 11, 'Iris-versicolor': 0} Iris-setosa\n",
      "Iris-setosa Iris-setosa\n",
      "{'Iris-virginica': 11, 'Iris-setosa': 0, 'Iris-versicolor': 0} Iris-virginica\n",
      "Iris-virginica Iris-virginica\n",
      "{'Iris-virginica': 0, 'Iris-setosa': 11, 'Iris-versicolor': 0} Iris-setosa\n",
      "Iris-setosa Iris-setosa\n",
      "{'Iris-virginica': 0, 'Iris-setosa': 11, 'Iris-versicolor': 0} Iris-setosa\n",
      "Iris-setosa Iris-setosa\n",
      "{'Iris-virginica': 11, 'Iris-setosa': 0, 'Iris-versicolor': 0} Iris-virginica\n",
      "Iris-virginica Iris-virginica\n",
      "{'Iris-virginica': 0, 'Iris-setosa': 0, 'Iris-versicolor': 11} Iris-versicolor\n",
      "Iris-versicolor Iris-versicolor\n",
      "{'Iris-virginica': 0, 'Iris-setosa': 0, 'Iris-versicolor': 11} Iris-versicolor\n",
      "Iris-versicolor Iris-versicolor\n",
      "{'Iris-virginica': 6, 'Iris-setosa': 0, 'Iris-versicolor': 5} Iris-virginica\n",
      "Iris-virginica Iris-virginica\n",
      "{'Iris-virginica': 0, 'Iris-setosa': 11, 'Iris-versicolor': 0} Iris-setosa\n",
      "Iris-setosa Iris-setosa\n",
      "{'Iris-virginica': 0, 'Iris-setosa': 11, 'Iris-versicolor': 0} Iris-setosa\n",
      "Iris-setosa Iris-setosa\n",
      "{'Iris-virginica': 0, 'Iris-setosa': 11, 'Iris-versicolor': 0} Iris-setosa\n",
      "Iris-setosa Iris-setosa\n",
      "{'Iris-virginica': 0, 'Iris-setosa': 0, 'Iris-versicolor': 11} Iris-versicolor\n",
      "Iris-versicolor Iris-versicolor\n",
      "{'Iris-virginica': 0, 'Iris-setosa': 0, 'Iris-versicolor': 11} Iris-versicolor\n",
      "Iris-versicolor Iris-versicolor\n",
      "{'Iris-virginica': 0, 'Iris-setosa': 11, 'Iris-versicolor': 0} Iris-setosa\n",
      "Iris-setosa Iris-setosa\n",
      "{'Iris-virginica': 0, 'Iris-setosa': 11, 'Iris-versicolor': 0} Iris-setosa\n",
      "Iris-setosa Iris-setosa\n",
      "Iris-virginica Iris-virginica\n",
      "Iris-versicolor Iris-versicolor\n",
      "Iris-setosa Iris-setosa\n",
      "Iris-setosa Iris-setosa\n",
      "Iris-virginica Iris-virginica\n",
      "Iris-versicolor Iris-versicolor\n",
      "Iris-versicolor Iris-versicolor\n",
      "Iris-virginica Iris-virginica\n",
      "Iris-setosa Iris-setosa\n",
      "Iris-setosa Iris-setosa\n",
      "Iris-virginica Iris-virginica\n",
      "Iris-virginica Iris-virginica\n",
      "Iris-versicolor Iris-versicolor\n",
      "Iris-versicolor Iris-versicolor\n",
      "Iris-virginica Iris-virginica\n",
      "Iris-versicolor Iris-versicolor\n",
      "Iris-virginica Iris-virginica\n",
      "Iris-versicolor Iris-versicolor\n",
      "Iris-versicolor Iris-versicolor\n",
      "Iris-versicolor Iris-versicolor\n",
      "Iris-setosa Iris-setosa\n",
      "Iris-versicolor Iris-versicolor\n",
      "Iris-versicolor Iris-versicolor\n",
      "Iris-setosa Iris-setosa\n",
      "Iris-versicolor Iris-versicolor\n",
      "Iris-setosa Iris-setosa\n",
      "Iris-virginica Iris-virginica\n",
      "Iris-setosa Iris-setosa\n",
      "Iris-setosa Iris-setosa\n",
      "Iris-virginica Iris-virginica\n",
      "Iris-versicolor Iris-versicolor\n",
      "Iris-versicolor Iris-versicolor\n",
      "Iris-virginica Iris-virginica\n",
      "Iris-setosa Iris-setosa\n",
      "Iris-setosa Iris-setosa\n",
      "Iris-setosa Iris-setosa\n",
      "Iris-versicolor Iris-versicolor\n",
      "Iris-versicolor Iris-versicolor\n",
      "Iris-setosa Iris-setosa\n",
      "Iris-setosa Iris-setosa\n",
      "0.0\n"
     ]
    }
   ],
   "source": [
    "def performance (real,predict):\n",
    "    label_predict=np.array(predict)\n",
    "    label_real=np.array(real)[:,-1]\n",
    "    error=0\n",
    "    for t,p in zip(label_real,label_predict):\n",
    "        print (t,p) \n",
    "        if t!=p:\n",
    "            error+=1\n",
    "    return error/len(label_real)\n",
    "train_set=iris[:80]\n",
    "test_set=iris[100:140]\n",
    "error=performance(test_set,knn(train_set,test_set,11))\n",
    "print (error)"
   ]
  },
  {
   "cell_type": "code",
   "execution_count": 521,
   "metadata": {},
   "outputs": [
    {
     "name": "stdout",
     "output_type": "stream",
     "text": [
      "['Iris-virginica', 'Iris-versicolor', 'Iris-versicolor', 'Iris-virginica']\n"
     ]
    }
   ],
   "source": [
    "print (predict)"
   ]
  },
  {
   "cell_type": "code",
   "execution_count": 522,
   "metadata": {},
   "outputs": [
    {
     "data": {
      "text/plain": [
       "{'Iris-setosa', 'Iris-versicolor', 'Iris-virginica'}"
      ]
     },
     "execution_count": 522,
     "metadata": {},
     "output_type": "execute_result"
    }
   ],
   "source": [
    "iris=np.array(iris)\n",
    "X = np.array(iris[:, :4])  # we only take the first two features.\n",
    "X=X.astype(float)\n",
    "Y = iris[:,-1]\n",
    "#Y=Y.astype(int)\n",
    "types=set(Y)\n",
    "types"
   ]
  },
  {
   "cell_type": "code",
   "execution_count": 523,
   "metadata": {},
   "outputs": [
    {
     "data": {
      "image/png": "[encoded data removed]",
      "text/plain": [
       "<matplotlib.figure.Figure at 0x7f663a077240>"
      ]
     },
     "metadata": {},
     "output_type": "display_data"
    }
   ],
   "source": [
    "x_min, x_max = X[:, 0].min() - .5, X[:, 0].max() + .5\n",
    "y_min, y_max = X[:, 1].min() - .5, X[:, 1].max() + .5\n",
    "\n",
    "plt.figure(2, figsize=(8, 6))\n",
    "plt.clf()\n",
    "\n",
    "# Plot the training points\n",
    "for (x,y) in zip(X,Y):\n",
    "    if y=='Iris-setosa':\n",
    "        c='r'\n",
    "    if y=='Iris-versicolor':\n",
    "        c='g'  \n",
    "    if y=='Iris-virginica':\n",
    "        c='b'    \n",
    "    plt.scatter(x[0], x[1],color=c)\n",
    "plt.xlabel('Sepal length')\n",
    "plt.ylabel('Sepal width')\n",
    "plt.xlim(x_min, x_max)\n",
    "plt.ylim(y_min, y_max)\n",
    "plt.xticks(())\n",
    "plt.yticks(())\n",
    "plt.show()"
   ]
  },
  {
   "cell_type": "code",
   "execution_count": 542,
   "metadata": {
    "collapsed": true
   },
   "outputs": [],
   "source": [
    "from sklearn.preprocessing import StandardScaler\n",
    " \n",
    "#标准化，返回值为标准化后的数据\n",
    "data=StandardScaler().fit_transform(X)"
   ]
  },
  {
   "cell_type": "code",
   "execution_count": null,
   "metadata": {
    "collapsed": true
   },
   "outputs": [],
   "source": [
    "iris=iris.load()"
   ]
  },
  {
   "cell_type": "code",
   "execution_count": 525,
   "metadata": {},
   "outputs": [
    {
     "ename": "AttributeError",
     "evalue": "'numpy.ndarray' object has no attribute 'target'",
     "output_type": "error",
     "traceback": [
      "\u001b[0;31m---------------------------------------------------------------------------\u001b[0m",
      "\u001b[0;31mAttributeError\u001b[0m                            Traceback (most recent call last)",
      "\u001b[0;32m<ipython-input-525-455d3ae1b107>\u001b[0m in \u001b[0;36m<module>\u001b[0;34m()\u001b[0m\n\u001b[1;32m      3\u001b[0m \u001b[0;34m\u001b[0m\u001b[0m\n\u001b[1;32m      4\u001b[0m \u001b[0;31m#选择K个最好的特征，返回选择特征后的数据\u001b[0m\u001b[0;34m\u001b[0m\u001b[0;34m\u001b[0m\u001b[0m\n\u001b[0;32m----> 5\u001b[0;31m \u001b[0mcar\u001b[0m\u001b[0;34m=\u001b[0m\u001b[0mSelectKBest\u001b[0m\u001b[0;34m(\u001b[0m\u001b[0mchi2\u001b[0m\u001b[0;34m,\u001b[0m \u001b[0mk\u001b[0m\u001b[0;34m=\u001b[0m\u001b[0;36m2\u001b[0m\u001b[0;34m)\u001b[0m\u001b[0;34m.\u001b[0m\u001b[0mfit_transform\u001b[0m\u001b[0;34m(\u001b[0m\u001b[0miris\u001b[0m\u001b[0;34m.\u001b[0m\u001b[0mdata\u001b[0m\u001b[0;34m,\u001b[0m \u001b[0miris\u001b[0m\u001b[0;34m.\u001b[0m\u001b[0mtarget\u001b[0m\u001b[0;34m)\u001b[0m\u001b[0;34m\u001b[0m\u001b[0m\n\u001b[0m",
      "\u001b[0;31mAttributeError\u001b[0m: 'numpy.ndarray' object has no attribute 'target'"
     ]
    }
   ],
   "source": [
    "from sklearn.feature_selection import SelectKBest\n",
    "from sklearn.feature_selection import chi2\n",
    "\n",
    "#选择K个最好的特征，返回选择特征后的数据\n",
    "car=SelectKBest(chi2, k=2).fit_transform(iris.data, iris.target)"
   ]
  },
  {
   "cell_type": "code",
   "execution_count": 526,
   "metadata": {},
   "outputs": [
    {
     "ename": "ValueError",
     "evalue": "could not convert string to float: 'Iris-setosa'",
     "output_type": "error",
     "traceback": [
      "\u001b[0;31m---------------------------------------------------------------------------\u001b[0m",
      "\u001b[0;31mValueError\u001b[0m                                Traceback (most recent call last)",
      "\u001b[0;32m<ipython-input-526-99e23537bbbd>\u001b[0m in \u001b[0;36m<module>\u001b[0;34m()\u001b[0m\n\u001b[1;32m      3\u001b[0m \u001b[0mfig\u001b[0m \u001b[0;34m=\u001b[0m \u001b[0mplt\u001b[0m\u001b[0;34m.\u001b[0m\u001b[0mfigure\u001b[0m\u001b[0;34m(\u001b[0m\u001b[0;36m1\u001b[0m\u001b[0;34m,\u001b[0m \u001b[0mfigsize\u001b[0m\u001b[0;34m=\u001b[0m\u001b[0;34m(\u001b[0m\u001b[0;36m8\u001b[0m\u001b[0;34m,\u001b[0m \u001b[0;36m6\u001b[0m\u001b[0;34m)\u001b[0m\u001b[0;34m)\u001b[0m\u001b[0;34m\u001b[0m\u001b[0m\n\u001b[1;32m      4\u001b[0m \u001b[0max\u001b[0m \u001b[0;34m=\u001b[0m \u001b[0mAxes3D\u001b[0m\u001b[0;34m(\u001b[0m\u001b[0mfig\u001b[0m\u001b[0;34m,\u001b[0m \u001b[0melev\u001b[0m\u001b[0;34m=\u001b[0m\u001b[0;34m-\u001b[0m\u001b[0;36m150\u001b[0m\u001b[0;34m,\u001b[0m \u001b[0mazim\u001b[0m\u001b[0;34m=\u001b[0m\u001b[0;36m110\u001b[0m\u001b[0;34m)\u001b[0m\u001b[0;34m\u001b[0m\u001b[0m\n\u001b[0;32m----> 5\u001b[0;31m \u001b[0mX_reduced\u001b[0m \u001b[0;34m=\u001b[0m \u001b[0mPCA\u001b[0m\u001b[0;34m(\u001b[0m\u001b[0mn_components\u001b[0m\u001b[0;34m=\u001b[0m\u001b[0;36m3\u001b[0m\u001b[0;34m)\u001b[0m\u001b[0;34m.\u001b[0m\u001b[0mfit_transform\u001b[0m\u001b[0;34m(\u001b[0m\u001b[0miris\u001b[0m\u001b[0;34m.\u001b[0m\u001b[0mdata\u001b[0m\u001b[0;34m)\u001b[0m\u001b[0;34m\u001b[0m\u001b[0m\n\u001b[0m\u001b[1;32m      6\u001b[0m \u001b[0max\u001b[0m\u001b[0;34m.\u001b[0m\u001b[0mscatter\u001b[0m\u001b[0;34m(\u001b[0m\u001b[0mX_reduced\u001b[0m\u001b[0;34m[\u001b[0m\u001b[0;34m:\u001b[0m\u001b[0;34m,\u001b[0m \u001b[0;36m0\u001b[0m\u001b[0;34m]\u001b[0m\u001b[0;34m,\u001b[0m \u001b[0mX_reduced\u001b[0m\u001b[0;34m[\u001b[0m\u001b[0;34m:\u001b[0m\u001b[0;34m,\u001b[0m \u001b[0;36m1\u001b[0m\u001b[0;34m]\u001b[0m\u001b[0;34m,\u001b[0m \u001b[0mX_reduced\u001b[0m\u001b[0;34m[\u001b[0m\u001b[0;34m:\u001b[0m\u001b[0;34m,\u001b[0m \u001b[0;36m2\u001b[0m\u001b[0;34m]\u001b[0m\u001b[0;34m,\u001b[0m \u001b[0mc\u001b[0m\u001b[0;34m=\u001b[0m\u001b[0mY\u001b[0m\u001b[0;34m,\u001b[0m\u001b[0mcmap\u001b[0m\u001b[0;34m=\u001b[0m\u001b[0mplt\u001b[0m\u001b[0;34m.\u001b[0m\u001b[0mcm\u001b[0m\u001b[0;34m.\u001b[0m\u001b[0mPaired\u001b[0m\u001b[0;34m)\u001b[0m\u001b[0;34m\u001b[0m\u001b[0m\n\u001b[1;32m      7\u001b[0m \u001b[0max\u001b[0m\u001b[0;34m.\u001b[0m\u001b[0mset_title\u001b[0m\u001b[0;34m(\u001b[0m\u001b[0;34m\"First three PCA directions\"\u001b[0m\u001b[0;34m)\u001b[0m\u001b[0;34m\u001b[0m\u001b[0m\n",
      "\u001b[0;32m~/anaconda3/lib/python3.6/site-packages/sklearn/decomposition/pca.py\u001b[0m in \u001b[0;36mfit_transform\u001b[0;34m(self, X, y)\u001b[0m\n\u001b[1;32m    322\u001b[0m \u001b[0;34m\u001b[0m\u001b[0m\n\u001b[1;32m    323\u001b[0m         \"\"\"\n\u001b[0;32m--> 324\u001b[0;31m         \u001b[0mU\u001b[0m\u001b[0;34m,\u001b[0m \u001b[0mS\u001b[0m\u001b[0;34m,\u001b[0m \u001b[0mV\u001b[0m \u001b[0;34m=\u001b[0m \u001b[0mself\u001b[0m\u001b[0;34m.\u001b[0m\u001b[0m_fit\u001b[0m\u001b[0;34m(\u001b[0m\u001b[0mX\u001b[0m\u001b[0;34m)\u001b[0m\u001b[0;34m\u001b[0m\u001b[0m\n\u001b[0m\u001b[1;32m    325\u001b[0m         \u001b[0mU\u001b[0m \u001b[0;34m=\u001b[0m \u001b[0mU\u001b[0m\u001b[0;34m[\u001b[0m\u001b[0;34m:\u001b[0m\u001b[0;34m,\u001b[0m \u001b[0;34m:\u001b[0m\u001b[0mself\u001b[0m\u001b[0;34m.\u001b[0m\u001b[0mn_components_\u001b[0m\u001b[0;34m]\u001b[0m\u001b[0;34m\u001b[0m\u001b[0m\n\u001b[1;32m    326\u001b[0m \u001b[0;34m\u001b[0m\u001b[0m\n",
      "\u001b[0;32m~/anaconda3/lib/python3.6/site-packages/sklearn/decomposition/pca.py\u001b[0m in \u001b[0;36m_fit\u001b[0;34m(self, X)\u001b[0m\n\u001b[1;32m    344\u001b[0m \u001b[0;34m\u001b[0m\u001b[0m\n\u001b[1;32m    345\u001b[0m         X = check_array(X, dtype=[np.float64], ensure_2d=True,\n\u001b[0;32m--> 346\u001b[0;31m                         copy=self.copy)\n\u001b[0m\u001b[1;32m    347\u001b[0m \u001b[0;34m\u001b[0m\u001b[0m\n\u001b[1;32m    348\u001b[0m         \u001b[0;31m# Handle n_components==None\u001b[0m\u001b[0;34m\u001b[0m\u001b[0;34m\u001b[0m\u001b[0m\n",
      "\u001b[0;32m~/anaconda3/lib/python3.6/site-packages/sklearn/utils/validation.py\u001b[0m in \u001b[0;36mcheck_array\u001b[0;34m(array, accept_sparse, dtype, order, copy, force_all_finite, ensure_2d, allow_nd, ensure_min_samples, ensure_min_features, warn_on_dtype, estimator)\u001b[0m\n\u001b[1;32m    380\u001b[0m                                       force_all_finite)\n\u001b[1;32m    381\u001b[0m     \u001b[0;32melse\u001b[0m\u001b[0;34m:\u001b[0m\u001b[0;34m\u001b[0m\u001b[0m\n\u001b[0;32m--> 382\u001b[0;31m         \u001b[0marray\u001b[0m \u001b[0;34m=\u001b[0m \u001b[0mnp\u001b[0m\u001b[0;34m.\u001b[0m\u001b[0marray\u001b[0m\u001b[0;34m(\u001b[0m\u001b[0marray\u001b[0m\u001b[0;34m,\u001b[0m \u001b[0mdtype\u001b[0m\u001b[0;34m=\u001b[0m\u001b[0mdtype\u001b[0m\u001b[0;34m,\u001b[0m \u001b[0morder\u001b[0m\u001b[0;34m=\u001b[0m\u001b[0morder\u001b[0m\u001b[0;34m,\u001b[0m \u001b[0mcopy\u001b[0m\u001b[0;34m=\u001b[0m\u001b[0mcopy\u001b[0m\u001b[0;34m)\u001b[0m\u001b[0;34m\u001b[0m\u001b[0m\n\u001b[0m\u001b[1;32m    383\u001b[0m \u001b[0;34m\u001b[0m\u001b[0m\n\u001b[1;32m    384\u001b[0m         \u001b[0;32mif\u001b[0m \u001b[0mensure_2d\u001b[0m\u001b[0;34m:\u001b[0m\u001b[0;34m\u001b[0m\u001b[0m\n",
      "\u001b[0;31mValueError\u001b[0m: could not convert string to float: 'Iris-setosa'"
     ]
    }
   ],
   "source": [
    "# To getter a better understanding of interaction of the dimensions\n",
    "# plot the first three PCA dimensions\n",
    "fig = plt.figure(1, figsize=(8, 6))\n",
    "ax = Axes3D(fig, elev=-150, azim=110)\n",
    "X_reduced = PCA(n_components=3).fit_transform(iris.data)\n",
    "ax.scatter(X_reduced[:, 0], X_reduced[:, 1], X_reduced[:, 2], c=Y,cmap=plt.cm.Paired)\n",
    "ax.set_title(\"First three PCA directions\")\n",
    "ax.set_xlabel(\"1st eigenvector\")\n",
    "ax.w_xaxis.set_ticklabels([])\n",
    "ax.set_ylabel(\"2nd eigenvector\")\n",
    "ax.w_yaxis.set_ticklabels([])\n",
    "ax.set_zlabel(\"3rd eigenvector\")\n",
    "ax.w_zaxis.set_ticklabels([])\n",
    "plt.show()"
   ]
  },
  {
   "cell_type": "code",
   "execution_count": 527,
   "metadata": {},
   "outputs": [
    {
     "data": {
      "text/plain": [
       "array([ 0.9       ,  0.9       ,  0.96666667,  0.96666667,  1.        ])"
      ]
     },
     "execution_count": 527,
     "metadata": {},
     "output_type": "execute_result"
    }
   ],
   "source": [
    "knn_clf=KNeighborsClassifier(n_neighbors=5, algorithm='kd_tree', weights='distance', p=3)\n",
    "score = cross_val_score(knn_clf,X,Y, cv=5)\n",
    "score"
   ]
  },
  {
   "cell_type": "code",
   "execution_count": 363,
   "metadata": {
    "collapsed": true
   },
   "outputs": [],
   "source": [
    "knn_clf=KNeighborsClassifier(n_neighbors=3, algorithm='kd_tree', weights='distance', p=3)\n",
    "#score = cross_val_score(knn_clf,X_reduced,iris.target, cv=3)\n",
    "#score"
   ]
  },
  {
   "cell_type": "code",
   "execution_count": 5,
   "metadata": {
    "collapsed": true
   },
   "outputs": [],
   "source": [
    "import scipy.io\n",
    "mnist_train = scipy.io.loadmat('mnist_train.mat')\n",
    "mnist_train_label = scipy.io.loadmat('mnist_train_labels.mat')\n",
    "mnist_test = scipy.io.loadmat('mnist_test.mat')\n",
    "mnist_test_label = scipy.io.loadmat('mnist_test_labels.mat')"
   ]
  },
  {
   "cell_type": "code",
   "execution_count": 13,
   "metadata": {},
   "outputs": [
    {
     "name": "stdout",
     "output_type": "stream",
     "text": [
      "60000 60000\n"
     ]
    }
   ],
   "source": [
    "train=mnist_train['mnist_train']\n",
    "train_label=mnist_train_label['mnist_train_labels']\n",
    "im=[i.reshape(28,28) for i in train]\n",
    "print (len(train),len(train_label))\n",
    "train=train\n",
    "train_label=train_label.ravel()"
   ]
  },
  {
   "cell_type": "code",
   "execution_count": 14,
   "metadata": {},
   "outputs": [
    {
     "data": {
      "text/plain": [
       "array([[ 0.,  0.,  0., ...,  0.,  0.,  0.],\n",
       "       [ 0.,  0.,  0., ...,  0.,  0.,  0.],\n",
       "       [ 0.,  0.,  0., ...,  0.,  0.,  0.],\n",
       "       ..., \n",
       "       [ 0.,  0.,  0., ...,  0.,  0.,  0.],\n",
       "       [ 0.,  0.,  0., ...,  0.,  0.,  0.],\n",
       "       [ 0.,  0.,  0., ...,  0.,  0.,  0.]], dtype=float32)"
      ]
     },
     "execution_count": 14,
     "metadata": {},
     "output_type": "execute_result"
    }
   ],
   "source": [
    "train"
   ]
  },
  {
   "cell_type": "code",
   "execution_count": 2,
   "metadata": {},
   "outputs": [
    {
     "ename": "NameError",
     "evalue": "name 'train' is not defined",
     "output_type": "error",
     "traceback": [
      "\u001b[0;31m---------------------------------------------------------------------------\u001b[0m",
      "\u001b[0;31mNameError\u001b[0m                                 Traceback (most recent call last)",
      "\u001b[0;32m<ipython-input-2-928efc1969c9>\u001b[0m in \u001b[0;36m<module>\u001b[0;34m()\u001b[0m\n\u001b[1;32m      6\u001b[0m     \u001b[0mU\u001b[0m\u001b[0;34m,\u001b[0m \u001b[0mS\u001b[0m\u001b[0;34m,\u001b[0m \u001b[0mV\u001b[0m \u001b[0;34m=\u001b[0m \u001b[0mnp\u001b[0m\u001b[0;34m.\u001b[0m\u001b[0mlinalg\u001b[0m\u001b[0;34m.\u001b[0m\u001b[0msvd\u001b[0m\u001b[0;34m(\u001b[0m\u001b[0mdata\u001b[0m\u001b[0;34m,\u001b[0m \u001b[0mfull_matrices\u001b[0m\u001b[0;34m=\u001b[0m\u001b[0;32mFalse\u001b[0m\u001b[0;34m)\u001b[0m\u001b[0;34m\u001b[0m\u001b[0m\n\u001b[1;32m      7\u001b[0m     \u001b[0;32mreturn\u001b[0m \u001b[0mU\u001b[0m\u001b[0;34m[\u001b[0m\u001b[0;34m:\u001b[0m\u001b[0;34m,\u001b[0m\u001b[0;34m:\u001b[0m\u001b[0mk\u001b[0m\u001b[0;34m]\u001b[0m\u001b[0;34m.\u001b[0m\u001b[0mdot\u001b[0m\u001b[0;34m(\u001b[0m\u001b[0mnp\u001b[0m\u001b[0;34m.\u001b[0m\u001b[0mdiag\u001b[0m\u001b[0;34m(\u001b[0m\u001b[0mS\u001b[0m\u001b[0;34m)\u001b[0m\u001b[0;34m[\u001b[0m\u001b[0;34m:\u001b[0m\u001b[0mk\u001b[0m\u001b[0;34m,\u001b[0m\u001b[0;34m:\u001b[0m\u001b[0mk\u001b[0m\u001b[0;34m]\u001b[0m\u001b[0;34m)\u001b[0m\u001b[0;34m\u001b[0m\u001b[0m\n\u001b[0;32m----> 8\u001b[0;31m \u001b[0mtrain_pca\u001b[0m\u001b[0;34m=\u001b[0m\u001b[0msvd_pca\u001b[0m\u001b[0;34m(\u001b[0m\u001b[0mtrain\u001b[0m\u001b[0;34m,\u001b[0m\u001b[0;36m50\u001b[0m\u001b[0;34m)\u001b[0m\u001b[0;34m\u001b[0m\u001b[0m\n\u001b[0m",
      "\u001b[0;31mNameError\u001b[0m: name 'train' is not defined"
     ]
    }
   ],
   "source": [
    "import numpy as np\n",
    "def svd_pca(data, k):\n",
    "    \"\"\"Reduce DATA using its K principal components.\"\"\"\n",
    "    data = data.astype(\"float64\")\n",
    "    data -= np.mean(data, axis=0)\n",
    "    U, S, V = np.linalg.svd(data, full_matrices=False)\n",
    "    return U[:,:k].dot(np.diag(S)[:k,:k])\n",
    "train_pca=svd_pca(train,50)"
   ]
  },
  {
   "cell_type": "code",
   "execution_count": 65,
   "metadata": {},
   "outputs": [
    {
     "data": {
      "image/png": "[encoded data removed]",
      "text/plain": [
       "<matplotlib.figure.Figure at 0x1cb16ebf470>"
      ]
     },
     "metadata": {},
     "output_type": "display_data"
    }
   ],
   "source": [
    "for i in range(5):\n",
    "    train_pca=svd_pca(train,30+10*i)\n",
    "    score = cross_val_score(knn_clf,train_pca[:50],train_label[:50], cv=3)\n",
    "    plt.scatter(i,score.mean())\n",
    "plt.show()"
   ]
  },
  {
   "cell_type": "code",
   "execution_count": 55,
   "metadata": {},
   "outputs": [
    {
     "ename": "NameError",
     "evalue": "name 'plt' is not defined",
     "output_type": "error",
     "traceback": [
      "\u001b[1;31m---------------------------------------------------------------------------\u001b[0m",
      "\u001b[1;31mNameError\u001b[0m                                 Traceback (most recent call last)",
      "\u001b[1;32m<ipython-input-55-a3cd1914d52f>\u001b[0m in \u001b[0;36m<module>\u001b[1;34m()\u001b[0m\n\u001b[1;32m----> 1\u001b[1;33m \u001b[0mplt\u001b[0m\u001b[1;33m.\u001b[0m\u001b[0mfigure\u001b[0m\u001b[1;33m(\u001b[0m\u001b[1;33m)\u001b[0m\u001b[1;33m\u001b[0m\u001b[0m\n\u001b[0m\u001b[0;32m      2\u001b[0m \u001b[0mplt\u001b[0m\u001b[1;33m.\u001b[0m\u001b[0mimshow\u001b[0m\u001b[1;33m(\u001b[0m\u001b[0mim\u001b[0m\u001b[1;33m[\u001b[0m\u001b[1;36m3\u001b[0m\u001b[1;33m]\u001b[0m\u001b[1;33m)\u001b[0m\u001b[1;33m\u001b[0m\u001b[0m\n\u001b[0;32m      3\u001b[0m \u001b[0mplt\u001b[0m\u001b[1;33m.\u001b[0m\u001b[0mshow\u001b[0m\u001b[1;33m(\u001b[0m\u001b[1;33m)\u001b[0m\u001b[1;33m\u001b[0m\u001b[0m\n",
      "\u001b[1;31mNameError\u001b[0m: name 'plt' is not defined"
     ]
    }
   ],
   "source": [
    "plt.figure()\n",
    "plt.imshow(im[3])\n",
    "plt.show()"
   ]
  },
  {
   "cell_type": "code",
   "execution_count": null,
   "metadata": {
    "collapsed": true
   },
   "outputs": [],
   "source": [
    "knn_clf.fit(mnist_train,mnist_train_label)"
   ]
  }
 ],
 "metadata": {
  "kernelspec": {
   "display_name": "Python 3",
   "language": "python",
   "name": "python3"
  },
  "language_info": {
   "codemirror_mode": {
    "name": "ipython",
    "version": 3
   },
   "file_extension": ".py",
   "mimetype": "text/x-python",
   "name": "python",
   "nbconvert_exporter": "python",
   "pygments_lexer": "ipython3",
   "version": "3.6.2"
  }
 },
 "nbformat": 4,
 "nbformat_minor": 2
}
