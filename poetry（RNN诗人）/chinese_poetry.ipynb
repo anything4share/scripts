{
 "cells": [
  {
   "cell_type": "markdown",
   "metadata": {},
   "source": [
    "# RNN诗人\n",
    "\n",
    "在这个notebook里我们尝试用RNN生成一些古诗。\n",
    "\n",
    "参考资料：\n",
    "- http://lib.csdn.net/article/aiframework/60534?knId=1756\n",
    "\n",
    "目录：\n",
    "- 准备工作\n",
    "- 建模\n",
    "- 训练并观察结果"
   ]
  },
  {
   "cell_type": "markdown",
   "metadata": {},
   "source": [
    "## 准备工作"
   ]
  },
  {
   "cell_type": "code",
   "execution_count": 1,
   "metadata": {},
   "outputs": [
    {
     "name": "stderr",
     "output_type": "stream",
     "text": [
      "Using TensorFlow backend.\n"
     ]
    }
   ],
   "source": [
    "import io\n",
    "import collections\n",
    "import sys\n",
    "\n",
    "from keras.preprocessing.sequence import pad_sequences\n",
    "from keras.preprocessing.text import Tokenizer\n",
    "import numpy as np\n",
    "\n",
    "%matplotlib inline\n",
    "import matplotlib.pyplot as plt"
   ]
  },
  {
   "cell_type": "markdown",
   "metadata": {},
   "source": [
    "准备数据。"
   ]
  },
  {
   "cell_type": "code",
   "execution_count": 2,
   "metadata": {},
   "outputs": [
    {
     "name": "stdout",
     "output_type": "stream",
     "text": [
      "唐诗总数:  34647\n"
     ]
    }
   ],
   "source": [
    "\n",
    "poetry_file ='poetry.txt'\n",
    "\n",
    "# 诗集\n",
    "poems = []\n",
    "with io.open(poetry_file, \"r\", encoding='utf-8',) as f:\n",
    "    for line in f:\n",
    "        try:\n",
    "            title, content = line.strip().split(u':')\n",
    "            content = content.replace(u' ',u'')\n",
    "            if '_' in content or u'(' in content or u'（' in content or u'《' in content or u'[' in content:\n",
    "                continue\n",
    "            if len(content) < 5 or len(content) > 79:\n",
    "                continue\n",
    "            content = u'[' + content + u']'\n",
    "            poems.append(content)\n",
    "        except Exception as e:\n",
    "            pass\n",
    "\n",
    "# 按诗的字数排序\n",
    "poems = sorted(poems, key=lambda line: len(line))\n",
    "MAX_LEN = max(map(len, poems))\n",
    "print('唐诗总数: ', len(poems))\n",
    "\n",
    "spaced_poems = list(map(lambda poem: ' '.join(poem), poems))\n",
    "\n",
    "partial_poems = []\n",
    "next_chars = []\n",
    "for poem in poems:\n",
    "    for i in range(1, len(poem)):\n",
    "        partial_poems.append(poem[:i])\n",
    "        next_chars.append(poem[i])\n",
    "\n",
    "# 统计每个字出现次数\n",
    "# all_words = []\n",
    "# for poem in poems:\n",
    "#     all_words += [word for word in poem]\n",
    "# counter = collections.Counter(all_words)\n",
    "# count_pairs = sorted(counter.items(), key=lambda x: -x[1])\n",
    "# words, _ = zip(*count_pairs)\n",
    "\n"
   ]
  },
  {
   "cell_type": "code",
   "execution_count": 3,
   "metadata": {
    "collapsed": true
   },
   "outputs": [],
   "source": [
    "tokenizer = Tokenizer(lower=False, filters='')\n",
    "tokenizer.fit_on_texts(spaced_poems)\n",
    "to_seq = lambda x: pad_sequences(tokenizer.texts_to_sequences(x), maxlen=MAX_LEN, padding='pre')"
   ]
  },
  {
   "cell_type": "code",
   "execution_count": 4,
   "metadata": {
    "collapsed": true
   },
   "outputs": [],
   "source": [
    "def batch_generator(texts, next_chars, batch_size, tokenizer, max_len):\n",
    "    n = len(texts)\n",
    "    n_words = len(tokenizer.word_counts)\n",
    "    while True:\n",
    "        inds = np.random.randint(0, n, size=batch_size)\n",
    "        batch_texts = []\n",
    "        batch_next_chars = []\n",
    "        for ind in inds:\n",
    "            batch_texts.append(texts[ind])\n",
    "            batch_next_chars.append(next_chars[ind])\n",
    "#         print(batch_texts)\n",
    "        x_batch = pad_sequences(tokenizer.texts_to_sequences(map(lambda text: ' '.join(text), batch_texts)), maxlen=max_len, padding='pre')\n",
    "        y_batch = tokenizer.texts_to_matrix(batch_next_chars)\n",
    "        yield (x_batch, y_batch)\n",
    "        "
   ]
  },
  {
   "cell_type": "code",
   "execution_count": 5,
   "metadata": {
    "collapsed": true
   },
   "outputs": [],
   "source": [
    "def batch_cycle_generator(texts, next_chars, batch_size, tokenizer, max_len):\n",
    "    n = len(texts)\n",
    "    n_words = len(tokenizer.word_counts)\n",
    "    ind = 0\n",
    "    while True:\n",
    "        batch_texts = []\n",
    "        batch_next_chars = []\n",
    "        for _ in range(batch_size):\n",
    "            batch_texts.append(texts[ind])\n",
    "            batch_next_chars.append(next_chars[ind])\n",
    "            ind = (ind + 1) % n\n",
    "#         print(batch_texts)\n",
    "        x_batch = pad_sequences(tokenizer.texts_to_sequences(map(lambda text: ' '.join(text), batch_texts)), maxlen=max_len, padding='pre')\n",
    "        y_batch = tokenizer.texts_to_matrix(batch_next_chars)\n",
    "        yield (x_batch, y_batch)\n",
    "        "
   ]
  },
  {
   "cell_type": "code",
   "execution_count": 6,
   "metadata": {
    "collapsed": true
   },
   "outputs": [],
   "source": [
    "# x = to_seq(spaced_poems)\n",
    "# y = np.zeros(x.shape, dtype=np.int32)\n",
    "# y[:, :-1] = x[:, 1:]\n",
    "\n",
    "# x = to_seq(map(lambda poem: ' '.join(poem), partial_poems))\n",
    "# y = tokenizer.texts_to_matrix(next_chars)\n"
   ]
  },
  {
   "cell_type": "code",
   "execution_count": 7,
   "metadata": {
    "collapsed": true
   },
   "outputs": [],
   "source": [
    "# 参数\n",
    "UNITS = 128\n",
    "N_LAYERS = 2\n",
    "DIM_EMBED = 50\n",
    "VOCAB = len(tokenizer.word_counts) + 1\n",
    "BATCH_SIZE = 64"
   ]
  },
  {
   "cell_type": "markdown",
   "metadata": {},
   "source": [
    "## 建模"
   ]
  },
  {
   "cell_type": "code",
   "execution_count": 8,
   "metadata": {
    "collapsed": true
   },
   "outputs": [],
   "source": [
    "import keras\n",
    "from keras.layers import Dense, Activation, LSTM, GRU, SimpleRNN, Input, Embedding, Dropout\n",
    "from keras.models import Model"
   ]
  },
  {
   "cell_type": "code",
   "execution_count": 9,
   "metadata": {
    "scrolled": true
   },
   "outputs": [
    {
     "name": "stdout",
     "output_type": "stream",
     "text": [
      "_________________________________________________________________\n",
      "Layer (type)                 Output Shape              Param #   \n",
      "=================================================================\n",
      "input_1 (InputLayer)         (None, 81)                0         \n",
      "_________________________________________________________________\n",
      "embedding_1 (Embedding)      (None, 81, 50)            305500    \n",
      "_________________________________________________________________\n",
      "dropout_1 (Dropout)          (None, 81, 50)            0         \n",
      "_________________________________________________________________\n",
      "gru_1 (GRU)                  (None, 81, 128)           68736     \n",
      "_________________________________________________________________\n",
      "gru_2 (GRU)                  (None, 128)               98688     \n",
      "_________________________________________________________________\n",
      "dense_1 (Dense)              (None, 6110)              788190    \n",
      "_________________________________________________________________\n",
      "activation_1 (Activation)    (None, 6110)              0         \n",
      "=================================================================\n",
      "Total params: 1,261,114\n",
      "Trainable params: 1,261,114\n",
      "Non-trainable params: 0\n",
      "_________________________________________________________________\n"
     ]
    }
   ],
   "source": [
    "input_shape = (MAX_LEN, )\n",
    "input_layer = Input(shape=input_shape)\n",
    "z = input_layer\n",
    "\n",
    "z = Embedding(VOCAB, DIM_EMBED, input_length=MAX_LEN, trainable=True)(z)\n",
    "z = Dropout(0.4)(z)\n",
    "\n",
    "z = GRU(UNITS, return_sequences=True)(z)\n",
    "z = GRU(UNITS)(z)\n",
    "z = Dense(VOCAB)(z)\n",
    "z = Activation('softmax')(z)\n",
    "\n",
    "model = Model(input_layer, z)\n",
    "model.compile(\n",
    "    loss=keras.losses.categorical_crossentropy,\n",
    "    optimizer=keras.optimizers.RMSprop(),\n",
    ")\n",
    "\n",
    "model.summary()"
   ]
  },
  {
   "cell_type": "markdown",
   "metadata": {},
   "source": [
    "## 训练并观察结果"
   ]
  },
  {
   "cell_type": "code",
   "execution_count": 10,
   "metadata": {
    "collapsed": true
   },
   "outputs": [],
   "source": [
    "gen = batch_generator(partial_poems, next_chars, BATCH_SIZE, tokenizer, MAX_LEN)"
   ]
  },
  {
   "cell_type": "code",
   "execution_count": 11,
   "metadata": {
    "collapsed": true
   },
   "outputs": [],
   "source": [
    "def sample(preds, temperature=1.0):\n",
    "    # helper function to sample an index from a probability array\n",
    "    preds = np.asarray(preds).astype('float64')\n",
    "    preds = np.log(preds) / temperature\n",
    "    exp_preds = np.exp(preds)\n",
    "    preds = exp_preds / np.sum(exp_preds)    \n",
    "#     probas = np.random.multinomial(1, preds, 1)\n",
    "#     return np.argmax(probas)\n",
    "    return np.random.choice(len(preds), p=preds)"
   ]
  },
  {
   "cell_type": "code",
   "execution_count": null,
   "metadata": {
    "scrolled": true
   },
   "outputs": [
    {
     "name": "stdout",
     "output_type": "stream",
     "text": [
      "\n",
      "--------------------------------------------------\n",
      "Iteration 0\n",
      "Epoch 1/1\n",
      "1000/1000 [==============================] - 147s - loss: 5.8926   \n",
      "\n",
      "--------------------------------------------------\n",
      "Iteration 4\n",
      "Epoch 1/1\n",
      "1000/1000 [==============================] - 148s - loss: 5.8847   \n",
      "\n",
      "--------------------------------------------------\n",
      "Iteration 5\n",
      "Epoch 1/1\n",
      "1000/1000 [==============================] - 145s - loss: 5.8759   \n",
      "Generating text\n",
      "\n",
      "----- diversity: 0.2\n",
      "----- Generating with seed: \"[\"\n",
      "[山去春日去，江人见云中。]\n",
      "\n",
      "----- diversity: 0.5\n",
      "----- Generating with seed: \"[\"\n",
      "[五忆诗园去，天山见自闲。一秋有月日，河下一主人。]\n",
      "\n",
      "----- diversity: 1.0\n",
      "----- Generating with seed: \"[\"\n",
      "[御半日子宗饶南，介摘我处坐丝共。喜襟万云曾花楚，斯色身此住陇言。]\n",
      "\n",
      "----- diversity: 1.2\n",
      "----- Generating with seed: \"[\"\n",
      "[绿玉驭谷蛁，渚阳陶诲登。井聊千故民，相宗画凫珮。积看一津尘，春是卧缊寺。玉寻俱亦赤，天小畔嶂鹤。]\n",
      "\n",
      "--------------------------------------------------\n",
      "Iteration 6\n",
      "Epoch 1/1\n",
      "1000/1000 [==============================] - 144s - loss: 5.7922   \n",
      "\n",
      "--------------------------------------------------\n",
      "Iteration 10\n",
      "Epoch 1/1\n",
      "1000/1000 [==============================] - 144s - loss: 5.8333   \n",
      "Generating text\n",
      "\n",
      "----- diversity: 0.2\n",
      "----- Generating with seed: \"[\"\n",
      "[白风春上，云风，]\n",
      "\n",
      "----- diversity: 0.5\n",
      "----- Generating with seed: \"[\"\n",
      "[忆古得家，三去来来。]\n",
      "\n",
      "----- diversity: 1.0\n",
      "----- Generating with seed: \"[\"\n",
      "[筐三明多缨，主对暮毛潺。唯壁文泉西，发方岂子寄。帆食半也底，祖后雄清春。舟还一花亦，空见不复远。]\n",
      "\n",
      "----- diversity: 1.2\n",
      "----- Generating with seed: \"[\"\n",
      "[岭，门老青少东云稳，察别闲相扬新亲。空禅洞几翠白泪，皆廉一藻感泽声。]\n",
      "\n",
      "--------------------------------------------------\n",
      "Iteration 11\n",
      "Epoch 1/1\n",
      "1000/1000 [==============================] - 145s - loss: 5.9361   \n",
      "\n",
      "--------------------------------------------------\n",
      "Iteration 12\n",
      "Epoch 1/1\n",
      "1000/1000 [==============================] - 143s - loss: 5.9972   \n",
      "\n",
      "--------------------------------------------------\n",
      "Iteration 13\n",
      "Epoch 1/1\n",
      "1000/1000 [==============================] - 143s - loss: 6.0991   \n",
      "\n",
      "--------------------------------------------------\n",
      "Iteration 14\n",
      "Epoch 1/1\n",
      "1000/1000 [==============================] - 143s - loss: 6.1411   \n",
      "\n",
      "--------------------------------------------------\n",
      "Iteration 15\n",
      "Epoch 1/1\n",
      "1000/1000 [==============================] - 144s - loss: 6.2137   \n",
      "Generating text\n",
      "\n",
      "----- diversity: 0.2\n",
      "----- Generating with seed: \"[\"\n",
      "[一山无事，，清]\n",
      "\n",
      "----- diversity: 0.5\n",
      "----- Generating with seed: \"[\"\n",
      "[欲此山花，空生。]\n",
      "\n",
      "----- diversity: 1.0\n",
      "----- Generating with seed: \"[\"\n",
      "[云颜残泛别，长春出上红。离吟应芳边，真然见自洞。经乡池，同空叶流千。离草醉为月，清不谩见眠。君人为古黄，人念玉飞为。]\n",
      "\n",
      "----- diversity: 1.2\n",
      "----- Generating with seed: \"[\"\n",
      "[世飞上水欲复霄，]\n",
      "\n",
      "--------------------------------------------------\n",
      "Iteration 16\n",
      "Epoch 1/1\n",
      "1000/1000 [==============================] - 144s - loss: 6.2276   \n",
      "\n",
      "--------------------------------------------------\n",
      "Iteration 17\n",
      "Epoch 1/1\n",
      "1000/1000 [==============================] - 144s - loss: 6.2485   \n",
      "\n",
      "--------------------------------------------------\n",
      "Iteration 18\n",
      "Epoch 1/1\n",
      "1000/1000 [==============================] - 142s - loss: 6.2777   \n",
      "\n",
      "--------------------------------------------------\n",
      "Iteration 19\n",
      "Epoch 1/1\n",
      "1000/1000 [==============================] - 143s - loss: 6.2639   \n",
      "\n",
      "--------------------------------------------------\n",
      "Iteration 20\n",
      "Epoch 1/1\n",
      "1000/1000 [==============================] - 143s - loss: 6.2964   \n",
      "Generating text\n",
      "\n",
      "----- diversity: 0.2\n",
      "----- Generating with seed: \"[\"\n",
      "[日日风云下，风花月下春。不知人有人，不见一人人。]\n",
      "\n",
      "----- diversity: 0.5\n",
      "----- Generating with seed: \"[\"\n",
      "[云色香花，江风上中。欲多来，，，自风。]\n",
      "\n",
      "----- diversity: 1.0\n",
      "----- Generating with seed: \"[\"\n",
      "[天惊石子万中处，外寻不神日骨深。幽未不天花去萝，不心人下清楼头。]\n",
      "\n",
      "----- diversity: 1.2\n",
      "----- Generating with seed: \"[\"\n",
      "[临花应每夕落车，难中楼水且紫山。自分路从不空共，地开中生爱后来。知今西关玉空师，老高岁鸟间山穷。何处道歌今芡游，归下得头江月华。]\n",
      "\n",
      "--------------------------------------------------\n",
      "Iteration 21\n",
      "Epoch 1/1\n",
      "1000/1000 [==============================] - 144s - loss: 6.2820   \n",
      "\n",
      "--------------------------------------------------\n",
      "Iteration 22\n",
      "Epoch 1/1\n",
      " 795/1000 [======================>.......] - ETA: 29s - loss: 6.3077"
     ]
    }
   ],
   "source": [
    "indices_char = {v: k for k, v in tokenizer.word_index.items()}\n",
    "\n",
    "losses = []\n",
    "# range(61)\n",
    "for iteration in range(26):\n",
    "    print()\n",
    "    print('-' * 50)\n",
    "    print('Iteration', iteration)\n",
    "    train_info = model.fit_generator(gen, 1000, epochs=1)\n",
    "    losses.append(train_info.history['loss'][0])\n",
    "\n",
    "    if iteration % 5 == 0:\n",
    "        print('Generating text')\n",
    "        for diversity in [0.2, 0.5, 1.0, 1.2]:\n",
    "    #     for diversity in [0.2, 0.5, 1.0]:\n",
    "            print()\n",
    "            print('----- diversity:', diversity)\n",
    "\n",
    "            generated = '['\n",
    "            print('----- Generating with seed: \"' + generated + '\"')\n",
    "            sys.stdout.write(generated)\n",
    "\n",
    "            for i in range(81):\n",
    "                x = pad_sequences(tokenizer.texts_to_sequences([' '.join(generated)]), maxlen=MAX_LEN, padding='pre')\n",
    "\n",
    "                preds = model.predict(x, verbose=0)[0]\n",
    "                next_index = sample(preds, diversity)\n",
    "                next_char = indices_char[next_index]\n",
    "\n",
    "                generated += next_char\n",
    "\n",
    "                sys.stdout.write(next_char)\n",
    "                sys.stdout.flush()\n",
    "                if next_char == ']':\n",
    "                    break\n",
    "            print()"
   ]
  },
  {
   "cell_type": "code",
   "execution_count": null,
   "metadata": {
    "collapsed": true
   },
   "outputs": [],
   "source": [
    "plt.plot(losses)\n",
    "plt.xlabel('epoch')\n",
    "plt.ylabel('loss')\n",
    "plt.grid()"
   ]
  },
  {
   "cell_type": "code",
   "execution_count": 101,
   "metadata": {
    "collapsed": true
   },
   "outputs": [],
   "source": [
    "model.save('poet_2gru_26epochs.h5')"
   ]
  }
 ],
 "metadata": {
  "kernelspec": {
   "display_name": "Python 3",
   "language": "python",
   "name": "python3"
  },
  "language_info": {
   "codemirror_mode": {
    "name": "ipython",
    "version": 3
   },
   "file_extension": ".py",
   "mimetype": "text/x-python",
   "name": "python",
   "nbconvert_exporter": "python",
   "pygments_lexer": "ipython3",
   "version": "3.6.2"
  }
 },
 "nbformat": 4,
 "nbformat_minor": 2
}
